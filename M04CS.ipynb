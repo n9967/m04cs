{
 "cells": [
  {
   "cell_type": "code",
   "execution_count": null,
   "id": "4307a939",
   "metadata": {},
   "outputs": [],
   "source": [
    "from flask import Flask, request\n",
    "from flask_sqlalchemy import SQLAlchemy\n",
    "\n",
    "app = Flask(__name__)\n",
    "db = SQLAlchemy(app)\n",
    "app.config['SQLALCHEMY_DATABASE_URI'] = 'sqlite:///data.db'\n",
    "\n",
    "class Book(db.Model):\n",
    "    id = db.Column(db.Integer, primary_key=True)\n",
    "    book_name = db.Column(db.String(80), unique=True, nullable=False)\n",
    "    author = db.Column(db.String(80), nullable=False)\n",
    "    publisher = db.Column(db.String(80), nullable=False)\n",
    "\n",
    "    def __repr__(self):\n",
    "        return f\"{self.book_name} - {self.author} - {self.publisher}\"\n",
    "\n",
    "@app.route('/')\n",
    "def index():\n",
    "    return 'Hello!'\n",
    "\n",
    "@app.route('/books')\n",
    "def get_books():\n",
    "    books = Book.query.all()\n",
    "    output = []\n",
    "    for book in books:\n",
    "        book_data = {'book_name': book.book_name, 'author': book.author, 'publisher': book.publisher}\n",
    "        output.append(book_data)\n",
    "    return {\"books\": output}\n",
    "\n",
    "@app.route('/books/<id>')\n",
    "def get_book(id):\n",
    "    book = Book.query.get_or_404(id)\n",
    "    return {\"book_name\": book.book_name, \"author\": book.author, \"publisher\": book.publisher}\n",
    "\n",
    "@app.route('/books', methods=['POST'])\n",
    "def add_book():\n",
    "    book = Book(book_name=request.json['book_name'], author=request.json['author'], publisher=request.json['publisher'])\n",
    "    db.session.add(book)\n",
    "    db.session.commit()\n",
    "    return {'id': book.id}\n",
    "\n",
    "@app.route('/books/<id>', methods=['DELETE'])\n",
    "def delete_book(id):\n",
    "    book = Book.query.get(id)\n",
    "    if book is None:\n",
    "        return {\"error\": \"not found\"}\n",
    "    db.session.delete(book)\n",
    "    db.session.commit()\n",
    "    return {\"message\": \"Deleted successfully!\"}\n"
   ]
  }
 ],
 "metadata": {
  "kernelspec": {
   "display_name": "Python 3 (ipykernel)",
   "language": "python",
   "name": "python3"
  },
  "language_info": {
   "codemirror_mode": {
    "name": "ipython",
    "version": 3
   },
   "file_extension": ".py",
   "mimetype": "text/x-python",
   "name": "python",
   "nbconvert_exporter": "python",
   "pygments_lexer": "ipython3",
   "version": "3.11.4"
  }
 },
 "nbformat": 4,
 "nbformat_minor": 5
}
